{
 "cells": [
  {
   "cell_type": "markdown",
   "metadata": {},
   "source": [
    "# Neural Networks\n",
    "\n",
    "## My first neural network: StupidNet™"
   ]
  },
  {
   "cell_type": "code",
   "execution_count": 1,
   "metadata": {},
   "outputs": [],
   "source": [
    "import torch\n",
    "from torch import nn\n",
    "import os\n",
    "\n",
    "def set_manual_seed(seed=114514):\n",
    "    torch.manual_seed(seed)\n",
    "    if torch.cuda.is_available():\n",
    "        torch.cuda.manual_seed_all(seed)"
   ]
  },
  {
   "cell_type": "markdown",
   "metadata": {},
   "source": [
    "### Loading and transforming the dataset"
   ]
  },
  {
   "cell_type": "markdown",
   "metadata": {},
   "source": [
    "#### Question 1 & 2"
   ]
  },
  {
   "cell_type": "code",
   "execution_count": 2,
   "metadata": {},
   "outputs": [
    {
     "name": "stdout",
     "output_type": "stream",
     "text": [
      "<class 'torch.Tensor'>\n",
      "torch.Size([784]) 0\n"
     ]
    },
    {
     "data": {
      "text/plain": [
       "<matplotlib.image.AxesImage at 0x2bf3cd5d960>"
      ]
     },
     "execution_count": 2,
     "metadata": {},
     "output_type": "execute_result"
    },
    {
     "data": {
      "image/png": "[encoded data removed]",
      "text/plain": [
       "<Figure size 640x480 with 1 Axes>"
      ]
     },
     "metadata": {},
     "output_type": "display_data"
    }
   ],
   "source": [
    "from torchvision import datasets\n",
    "from torchvision import transforms\n",
    "import matplotlib.pyplot as plt\n",
    "\n",
    "transform = transforms.Compose([\n",
    "    transforms.ToTensor(),\n",
    "    transforms.Lambda(lambda x: torch.flatten(x))  # 将张量展平为一维\n",
    "])\n",
    "\n",
    "training_data = datasets.FashionMNIST(\"../\", train=True, transform=transform)\n",
    "test_data = datasets.FashionMNIST(\"../\", download=True, train=False, transform=transform)\n",
    "\n",
    "print(type(training_data[1][0]))\n",
    "print(training_data[1][0].shape, training_data[1][1])\n",
    "plt.imshow(training_data[1][0].reshape(28,28))"
   ]
  },
  {
   "cell_type": "markdown",
   "metadata": {},
   "source": [
    "#### Question 3, 4 & 5"
   ]
  },
  {
   "cell_type": "code",
   "execution_count": null,
   "metadata": {},
   "outputs": [],
   "source": [
    "from torch.utils.data import DataLoader\n",
    "from torch.optim import Adam, SGD\n",
    "from tqdm import tqdm\n",
    "\n",
    "def trainer(dataset, model, loss_fn, epoch=10, batch_size=64, rate=1e-4, save_per_epoch=-1, ):\n",
    "    device = torch.device(\"cuda\" if torch.cuda.is_available() else \"cpu\")\n",
    "    model.to(device)\n",
    "    \n",
    "    # Useless for a single-layer network but we will keep it in order not to lose the generality\n",
    "    model.train()\n",
    "    \n",
    "    dataloader = DataLoader(dataset, batch_size, shuffle=True)\n",
    "    \n",
    "    optimizer = Adam(model.parameters(), lr=rate)\n",
    "    \n",
    "    for epoch_idx in range(epoch):\n",
    "        \n",
    "        pbar = tqdm(dataloader, desc=f\"Epoch {epoch_idx+1}/{epoch}\", ncols=100)\n",
    "        \n",
    "        for images, labels in pbar:\n",
    "            images, labels = images.to(device), labels.to(device)\n",
    "            outputs = model(images)\n",
    "            loss = loss_fn(outputs, labels)\n",
    "            optimizer.zero_grad()\n",
    "            loss.backward()\n",
    "            optimizer.step()\n",
    "            pbar.set_postfix(loss=loss.item())"
   ]
  },
  {
   "cell_type": "code",
   "execution_count": 4,
   "metadata": {},
   "outputs": [],
   "source": [
    "model_TD1 = nn.Linear(in_features=training_data[0][0].shape[0], out_features=1)"
   ]
  },
  {
   "cell_type": "markdown",
   "metadata": {},
   "source": [
    "#### Question 6"
   ]
  },
  {
   "cell_type": "code",
   "execution_count": null,
   "metadata": {},
   "outputs": [],
   "source": [
    "def MSE():\n",
    "    # patch outputs shape and target dtype\n",
    "    loss_fn = nn.MSELoss()\n",
    "    return lambda outputs, labels: loss_fn(outputs.squeeze(1), labels.float())\n",
    "\n",
    "set_manual_seed()    \n",
    "nn.init.normal_(model_TD1.weight, mean=0.0, std=0.01)\n",
    "nn.init.zeros_(model_TD1.bias)\n",
    "\n",
    "trainer(training_data, model_TD1, MSE(), batch_size=5, epoch=30)\n",
    "\n",
    "os.makedirs('work_dir', exist_ok=True)\n",
    "torch.save(model_TD1.state_dict(), './work_dir/model_TD1.pt')"
   ]
  },
  {
   "cell_type": "code",
   "execution_count": null,
   "metadata": {},
   "outputs": [],
   "source": [
    "def success_rate(model_TD1, test_data):\n",
    "    correct = 0\n",
    "    total = 0\n",
    "    test_loader = DataLoader(test_data, batch_size=64, shuffle=False)\n",
    "    model_TD1.eval()\n",
    "    with torch.no_grad():\n",
    "        for images, labels in test_loader:\n",
    "            images, labels = images.to(model_TD1.weight.device), labels.to(model_TD1.weight.device).to(torch.int32)\n",
    "            outputs = model_TD1(images)\n",
    "            pred = torch.round(outputs, decimals=0).squeeze(1).to(torch.int32)\n",
    "            total += labels.shape[0]\n",
    "            correct += (pred == labels).sum().item()\n",
    "    return correct/total\n",
    "\n",
    "print(f\"Success Rate of model_TD1: {success_rate(model_TD1, test_data)}\")"
   ]
  },
  {
   "cell_type": "markdown",
   "metadata": {},
   "source": [
    "### Improving StupidNet™: our second neural network"
   ]
  },
  {
   "cell_type": "markdown",
   "metadata": {},
   "source": [
    "#### Question 7"
   ]
  },
  {
   "cell_type": "code",
   "execution_count": null,
   "metadata": {},
   "outputs": [],
   "source": [
    "model = nn.Sequential(\n",
    "    nn.Linear(in_features=training_data[0][0].shape[0], out_features=10),\n",
    "    nn.LogSoftmax(dim=1)\n",
    ")\n",
    "\n",
    "# dummy_input = torch.randn(size=(13,784))\n",
    "# probs_ = torch.exp(model_10(dummy_input))\n",
    "# assert torch.allclose(\n",
    "#         torch.sum(probs_, axis=1),\n",
    "#         torch.ones(13))"
   ]
  },
  {
   "cell_type": "code",
   "execution_count": null,
   "metadata": {},
   "outputs": [],
   "source": [
    "set_manual_seed()\n",
    "nn.init.normal_(model[0].weight, mean=0.0, std=0.2)\n",
    "nn.init.zeros_(model[0].bias)\n",
    "\n",
    "trainer(training_data, model, nn.NLLLoss(), batch_size=50, epoch=30)\n",
    "\n",
    "os.makedirs('work_dir', exist_ok=True)\n",
    "torch.save(model.state_dict(), './work_dir/model_10.pt')"
   ]
  },
  {
   "cell_type": "code",
   "execution_count": null,
   "metadata": {},
   "outputs": [
    {
     "data": {
      "text/plain": [
       "Sequential(\n",
       "  (0): Linear(in_features=784, out_features=10, bias=True)\n",
       "  (1): LogSoftmax(dim=1)\n",
       ")"
      ]
     },
     "execution_count": 60,
     "metadata": {},
     "output_type": "execute_result"
    }
   ],
   "source": [
    "model"
   ]
  },
  {
   "cell_type": "code",
   "execution_count": null,
   "metadata": {},
   "outputs": [],
   "source": [
    "import pickle\n",
    "\n",
    "def torch_saver(net,file=\"model.pkl\"):\n",
    "  with open(file,'wb') as f:\n",
    "    pickle.dump(net,f)\n",
    "    \n",
    "torch_saver(model)"
   ]
  },
  {
   "cell_type": "code",
   "execution_count": 5,
   "metadata": {},
   "outputs": [],
   "source": [
    "def success_rate_vector(model_10, test_data):\n",
    "    correct = 0\n",
    "    total = 0\n",
    "    test_loader = DataLoader(test_data, batch_size=64, shuffle=False)\n",
    "    model_10.eval()\n",
    "    with torch.no_grad():\n",
    "        for images, labels in test_loader:\n",
    "            if torch.cuda.is_available():\n",
    "                images, labels = images.to('cuda'), labels.to('cuda').to(torch.int32)\n",
    "            outputs = model_10(images)\n",
    "            pred = torch.argmax(outputs, dim=1)\n",
    "            total += labels.shape[0]\n",
    "            correct += (pred == labels).sum().item()\n",
    "    print(f\"{correct} out of {total} correct\")\n",
    "    return correct/total\n",
    "\n",
    "# print(f\"Success Rate of model_TD1: {success_rate_vector(model_10, test_data)}\")"
   ]
  },
  {
   "cell_type": "markdown",
   "metadata": {},
   "source": [
    "### Activation Functions"
   ]
  },
  {
   "cell_type": "code",
   "execution_count": null,
   "metadata": {},
   "outputs": [],
   "source": [
    "model_ReLU = nn.Sequential(\n",
    "    nn.Linear(in_features=training_data[0][0].shape[0], out_features=10),\n",
    "    nn.ReLU(),\n",
    "    nn.LogSoftmax(dim=1) # Since we use nn.NLLLoss, using logsoftmax to normalize is recommended\n",
    ")\n",
    "\n",
    "model_sigmoid = nn.Sequential(\n",
    "    nn.Linear(in_features=training_data[0][0].shape[0], out_features=10),\n",
    "    nn.Sigmoid(),\n",
    "    nn.LogSoftmax(dim=1)\n",
    ")\n",
    "\n",
    "\n",
    "model_tanh = nn.Sequential(\n",
    "    nn.Linear(in_features=training_data[0][0].shape[0], out_features=10),\n",
    "    nn.Tanh(),\n",
    "    nn.LogSoftmax(dim=1)\n",
    ")"
   ]
  },
  {
   "cell_type": "code",
   "execution_count": null,
   "metadata": {},
   "outputs": [],
   "source": [
    "def train_and_test(model, model_name, test_data, save=True):\n",
    "    set_manual_seed()\n",
    "    nn.init.normal_(model[0].weight, mean=0.0, std=0.2)\n",
    "    nn.init.zeros_(model[0].bias)\n",
    "\n",
    "    trainer(training_data, model, nn.NLLLoss(), batch_size=64, epoch=30)\n",
    "    \n",
    "    print(f\"Success Rate of model_TD1: {success_rate_vector(model, test_data)}\")\n",
    "    \n",
    "    if save:\n",
    "        save_dir = f\"./work_dir/{model_name}.pt\"\n",
    "        print(f\"saving to {dir}\")\n",
    "        os.makedirs('work_dir', exist_ok=True)\n",
    "        torch.save(model.state_dict(), save_dir)"
   ]
  },
  {
   "cell_type": "code",
   "execution_count": null,
   "metadata": {},
   "outputs": [
    {
     "name": "stderr",
     "output_type": "stream",
     "text": [
      "Epoch 1/30: 100%|█████████████████████████████████████| 938/938 [00:08<00:00, 112.99it/s, loss=1.43]\n",
      "Epoch 2/30: 100%|█████████████████████████████████████| 938/938 [00:09<00:00, 101.53it/s, loss=1.32]\n",
      "Epoch 3/30: 100%|██████████████████████████████████████| 938/938 [00:09<00:00, 95.96it/s, loss=1.46]\n",
      "Epoch 4/30: 100%|█████████████████████████████████████| 938/938 [00:07<00:00, 121.03it/s, loss=1.01]\n",
      "Epoch 5/30: 100%|█████████████████████████████████████| 938/938 [00:08<00:00, 108.32it/s, loss=1.72]\n",
      "Epoch 6/30: 100%|█████████████████████████████████████| 938/938 [00:09<00:00, 101.27it/s, loss=1.37]\n",
      "Epoch 7/30: 100%|██████████████████████████████████████| 938/938 [00:10<00:00, 92.14it/s, loss=1.52]\n",
      "Epoch 8/30:  56%|████████████████████▋                | 526/938 [00:03<00:03, 132.41it/s, loss=1.19]"
     ]
    }
   ],
   "source": [
    "train_and_test(model_ReLU, \"model_RELU\", test_data)\n",
    "train_and_test(model_sigmoid, \"model_sigmoid\", test_data)\n",
    "train_and_test(model_tanh, \"model_tanh\", test_data)"
   ]
  },
  {
   "cell_type": "markdown",
   "metadata": {},
   "source": [
    "## Training using GPU\n",
    "\n",
    "We already implemented the GPU version to train our neural network."
   ]
  },
  {
   "cell_type": "markdown",
   "metadata": {},
   "source": [
    "## Using Classes"
   ]
  },
  {
   "cell_type": "markdown",
   "metadata": {},
   "source": [
    "### 打榜"
   ]
  },
  {
   "cell_type": "code",
   "execution_count": 26,
   "metadata": {},
   "outputs": [
    {
     "name": "stdout",
     "output_type": "stream",
     "text": [
      "8896 out of 10000 correct\n"
     ]
    }
   ],
   "source": [
    "net = model_MLP.net\n",
    "with open(f'./work_dir/model_MLP_acc={success_rate_vector(net, test_data)}.pkl','wb') as f:\n",
    "    pickle.dump(net,f)"
   ]
  },
  {
   "cell_type": "code",
   "execution_count": null,
   "metadata": {},
   "outputs": [],
   "source": [
    "from IPython.display import clear_output\n",
    "import pickle\n",
    "\n",
    "seed=1145141919\n",
    "\n",
    "set_manual_seed(seed)\n",
    "\n",
    "class MLP(nn.Module):\n",
    "\tdef __init__(self):\n",
    "\t\tsuper().__init__()\n",
    "\t\tself.net = nn.Sequential(\n",
    "\t\t\tnn.Linear(in_features=training_data[0][0].shape[0], out_features=256),\n",
    "\t\t\tnn.ReLU(),\n",
    "\t\t\tnn.Linear(in_features=256, out_features=128),\n",
    "\t\t\tnn.ReLU(),\n",
    "\t\t\tnn.Linear(in_features=128, out_features=10)\n",
    "\t\t)\n",
    "\n",
    "\tdef forward(self, x):\n",
    "\t\treturn self.net(x)\n",
    "\n",
    "class ConvNet(nn.Module):\n",
    "\tdef __init__(self):\n",
    "\t\tsuper().__init__()\n",
    "\t\tself.net = nn.Sequential(\n",
    "            nn.Conv2d(1, 32, kernel_size=3, stride=1, padding=1),  # 输入 (1, 28, 28) -> 输出 (32, 28, 28)\n",
    "            nn.ReLU(),\n",
    "            nn.MaxPool2d(kernel_size=2, stride=2),  # 输出 (32, 14, 14)\n",
    "            \n",
    "            nn.Conv2d(32, 64, kernel_size=3, stride=1, padding=1),  # 输出 (64, 14, 14)\n",
    "            nn.ReLU(),\n",
    "            nn.MaxPool2d(kernel_size=2, stride=2),  # 输出 (64, 7, 7)\n",
    "            \n",
    "            nn.Flatten(),  # 展平 (64 * 7 * 7)\n",
    "            nn.Linear(64 * 7 * 7, 128),\n",
    "            nn.ReLU(),\n",
    "            nn.Dropout(0.5),\n",
    "            nn.Linear(128, 10)  # 输出类别数：10\n",
    "        )\n",
    "\n",
    "\tdef forward(self, x):\n",
    "\t\treturn self.net(x)\n",
    "\n",
    "def plot_training_progress(loss_list, acc_list):\n",
    "    clear_output(wait=True)\n",
    "    print(acc_list)\n",
    "    plt.figure(figsize=(12, 5))\n",
    "    plt.subplot(1, 2, 1)\n",
    "    plt.plot(loss_list)\n",
    "    plt.yscale('log')\n",
    "    plt.xlabel('Batch')\n",
    "    plt.ylabel('Loss')\n",
    "    plt.ylim(0, 0.6)\n",
    "    plt.title('Training Loss')\n",
    "    plt.subplot(1, 2, 2)\n",
    "    plt.plot(acc_list)\n",
    "    plt.xlabel('Epoch')\n",
    "    # plt.ylim(76, 90)\n",
    "    plt.ylabel('Accuracy')\n",
    "    plt.title('Test Accuracy')\n",
    "    plt.show()\n",
    "\n",
    "def success_rate_vector(model, test_data):\n",
    "    correct = 0\n",
    "    total = 0\n",
    "    test_loader = DataLoader(test_data, batch_size=64, shuffle=False)\n",
    "    model.eval()\n",
    "    with torch.no_grad():\n",
    "        for images, labels in test_loader:\n",
    "            if torch.cuda.is_available():\n",
    "                images, labels = images.to('cuda'), labels.to('cuda').to(torch.int32)\n",
    "            outputs = model(images)\n",
    "            pred = torch.argmax(outputs, dim=1)\n",
    "            total += labels.shape[0]\n",
    "            correct += (pred == labels).sum().item()\n",
    "    print(f\"{correct} out of {total} correct\")\n",
    "    return correct/total\n",
    "\n",
    "from torch.optim import Adam, SGD\n",
    "\n",
    "def trainer(dataset, model, loss_fn, epoch=10, batch_size=64, rate=1e-4, save_per_epoch=-1):\n",
    "\tdevice = torch.device(\"cuda\" if torch.cuda.is_available() else \"cpu\")\n",
    "\tmodel.to(device)\n",
    "\t\n",
    "\tmodel.train()\n",
    "\t\n",
    "\tdataloader = DataLoader(dataset, batch_size, shuffle=False)\n",
    " \n",
    "\toptimizer = SGD(model.parameters(), lr=rate, weight_decay=0)\n",
    "\t\n",
    "\tloss_list = []\n",
    "\tacc_list = []\n",
    "\t\n",
    "\tmax_acc = 0\n",
    "\tfor epoch_idx in range(epoch):\n",
    "\t\t\n",
    "\t\tpbar = tqdm(dataloader, desc=f\"Epoch {epoch_idx+1}/{epoch}\", ncols=100)\n",
    "\t\t\n",
    "\t\tfor images, labels in pbar:\n",
    "\t\t\timages, labels = images.to(device), labels.to(device)\n",
    "\t\t\toutputs = model(images)\n",
    "\t\t\tloss = loss_fn(outputs, labels)\n",
    "\t\t\toptimizer.zero_grad()\n",
    "\t\t\tloss.backward()\n",
    "\t\t\toptimizer.step()\n",
    "\t\t\tpbar.set_postfix(loss=loss.item())\n",
    "\t\t\tloss_list.append(loss.item())\n",
    "\t\t\n",
    "\t\tacc = success_rate_vector(model, test_data)\n",
    "\t\tacc_list.append(acc)\n",
    "\t\t\n",
    "\t\tplot_training_progress(loss_list, acc_list)\n",
    "\n",
    "\t\tif epoch_idx % 5 == 0 or acc > max_acc:\n",
    "\t\t\twith open(f'./work_dir/model_3Layer_ConvNet_epoch={epoch_idx}_acc={acc}_seed={seed}_sequential.pkl','wb') as f:\n",
    " \t   \t\t\tpickle.dump(model.net,f)"
   ]
  },
  {
   "cell_type": "code",
   "execution_count": null,
   "metadata": {},
   "outputs": [],
   "source": [
    "model_Convnet = ConvNet\n",
    "\n",
    "# nn.init.normal_(model_MLP.net[0].weight, mean=0.0, std=0.01)\n",
    "# nn.init.zeros_(model_MLP.net[0].bias)\n",
    "# nn.init.normal_(model_MLP.net[2].weight, mean=0.0, std=0.05)\n",
    "# nn.init.zeros_(model_MLP.net[2].bias)\n",
    "\n",
    "trainer(training_data, model_Convnet, nn.CrossEntropyLoss(), batch_size=60000, epoch=400, rate=1e-1)"
   ]
  },
  {
   "cell_type": "code",
   "execution_count": 47,
   "metadata": {},
   "outputs": [
    {
     "name": "stdout",
     "output_type": "stream",
     "text": [
      "[0.8893, 0.8894, 0.8891]\n"
     ]
    },
    {
     "data": {
      "image/png": "[encoded data removed]",
      "text/plain": [
       "<Figure size 1200x500 with 2 Axes>"
      ]
     },
     "metadata": {},
     "output_type": "display_data"
    },
    {
     "name": "stderr",
     "output_type": "stream",
     "text": [
      "Epoch 4/400:   0%|                                                            | 0/1 [00:04<?, ?it/s]\n"
     ]
    },
    {
     "ename": "KeyboardInterrupt",
     "evalue": "",
     "output_type": "error",
     "traceback": [
      "\u001b[1;31m---------------------------------------------------------------------------\u001b[0m",
      "\u001b[1;31mKeyboardInterrupt\u001b[0m                         Traceback (most recent call last)",
      "Cell \u001b[1;32mIn[47], line 8\u001b[0m\n\u001b[0;32m      1\u001b[0m \u001b[38;5;66;03m# model_MLP = MLP()\u001b[39;00m\n\u001b[0;32m      2\u001b[0m \n\u001b[0;32m      3\u001b[0m \u001b[38;5;66;03m# nn.init.normal_(model_MLP.net[0].weight, mean=0.0, std=0.01)\u001b[39;00m\n\u001b[0;32m      4\u001b[0m \u001b[38;5;66;03m# nn.init.zeros_(model_MLP.net[0].bias)\u001b[39;00m\n\u001b[0;32m      5\u001b[0m \u001b[38;5;66;03m# nn.init.normal_(model_MLP.net[2].weight, mean=0.0, std=0.05)\u001b[39;00m\n\u001b[0;32m      6\u001b[0m \u001b[38;5;66;03m# nn.init.zeros_(model_MLP.net[2].bias)\u001b[39;00m\n\u001b[1;32m----> 8\u001b[0m \u001b[43mtrainer\u001b[49m\u001b[43m(\u001b[49m\u001b[43mtraining_data\u001b[49m\u001b[43m,\u001b[49m\u001b[43m \u001b[49m\u001b[43mmodel_MLP\u001b[49m\u001b[43m,\u001b[49m\u001b[43m \u001b[49m\u001b[43mnn\u001b[49m\u001b[38;5;241;43m.\u001b[39;49m\u001b[43mCrossEntropyLoss\u001b[49m\u001b[43m(\u001b[49m\u001b[43m)\u001b[49m\u001b[43m,\u001b[49m\u001b[43m \u001b[49m\u001b[43mbatch_size\u001b[49m\u001b[38;5;241;43m=\u001b[39;49m\u001b[38;5;241;43m60000\u001b[39;49m\u001b[43m,\u001b[49m\u001b[43m \u001b[49m\u001b[43mepoch\u001b[49m\u001b[38;5;241;43m=\u001b[39;49m\u001b[38;5;241;43m400\u001b[39;49m\u001b[43m,\u001b[49m\u001b[43m \u001b[49m\u001b[43mrate\u001b[49m\u001b[38;5;241;43m=\u001b[39;49m\u001b[38;5;241;43m1e-1\u001b[39;49m\u001b[43m)\u001b[49m\n",
      "Cell \u001b[1;32mIn[40], line 77\u001b[0m, in \u001b[0;36mtrainer\u001b[1;34m(dataset, model, loss_fn, epoch, batch_size, rate, save_per_epoch)\u001b[0m\n\u001b[0;32m     73\u001b[0m \u001b[38;5;28;01mfor\u001b[39;00m epoch_idx \u001b[38;5;129;01min\u001b[39;00m \u001b[38;5;28mrange\u001b[39m(epoch):\n\u001b[0;32m     75\u001b[0m \tpbar \u001b[38;5;241m=\u001b[39m tqdm(dataloader, desc\u001b[38;5;241m=\u001b[39m\u001b[38;5;124mf\u001b[39m\u001b[38;5;124m\"\u001b[39m\u001b[38;5;124mEpoch \u001b[39m\u001b[38;5;132;01m{\u001b[39;00mepoch_idx\u001b[38;5;241m+\u001b[39m\u001b[38;5;241m1\u001b[39m\u001b[38;5;132;01m}\u001b[39;00m\u001b[38;5;124m/\u001b[39m\u001b[38;5;132;01m{\u001b[39;00mepoch\u001b[38;5;132;01m}\u001b[39;00m\u001b[38;5;124m\"\u001b[39m, ncols\u001b[38;5;241m=\u001b[39m\u001b[38;5;241m100\u001b[39m)\n\u001b[1;32m---> 77\u001b[0m \t\u001b[38;5;28;01mfor\u001b[39;00m images, labels \u001b[38;5;129;01min\u001b[39;00m pbar:\n\u001b[0;32m     78\u001b[0m \t\timages, labels \u001b[38;5;241m=\u001b[39m images\u001b[38;5;241m.\u001b[39mto(device), labels\u001b[38;5;241m.\u001b[39mto(device)\n\u001b[0;32m     79\u001b[0m \t\toutputs \u001b[38;5;241m=\u001b[39m model(images)\n",
      "File \u001b[1;32mc:\\Users\\ming\\miniconda3\\envs\\mvd-3d\\lib\\site-packages\\tqdm\\std.py:1178\u001b[0m, in \u001b[0;36mtqdm.__iter__\u001b[1;34m(self)\u001b[0m\n\u001b[0;32m   1175\u001b[0m time \u001b[38;5;241m=\u001b[39m \u001b[38;5;28mself\u001b[39m\u001b[38;5;241m.\u001b[39m_time\n\u001b[0;32m   1177\u001b[0m \u001b[38;5;28;01mtry\u001b[39;00m:\n\u001b[1;32m-> 1178\u001b[0m     \u001b[38;5;28;01mfor\u001b[39;00m obj \u001b[38;5;129;01min\u001b[39;00m iterable:\n\u001b[0;32m   1179\u001b[0m         \u001b[38;5;28;01myield\u001b[39;00m obj\n\u001b[0;32m   1180\u001b[0m         \u001b[38;5;66;03m# Update and possibly print the progressbar.\u001b[39;00m\n\u001b[0;32m   1181\u001b[0m         \u001b[38;5;66;03m# Note: does not call self.update(1) for speed optimisation.\u001b[39;00m\n",
      "File \u001b[1;32mc:\\Users\\ming\\miniconda3\\envs\\mvd-3d\\lib\\site-packages\\torch\\utils\\data\\dataloader.py:630\u001b[0m, in \u001b[0;36m_BaseDataLoaderIter.__next__\u001b[1;34m(self)\u001b[0m\n\u001b[0;32m    627\u001b[0m \u001b[38;5;28;01mif\u001b[39;00m \u001b[38;5;28mself\u001b[39m\u001b[38;5;241m.\u001b[39m_sampler_iter \u001b[38;5;129;01mis\u001b[39;00m \u001b[38;5;28;01mNone\u001b[39;00m:\n\u001b[0;32m    628\u001b[0m     \u001b[38;5;66;03m# TODO(https://github.com/pytorch/pytorch/issues/76750)\u001b[39;00m\n\u001b[0;32m    629\u001b[0m     \u001b[38;5;28mself\u001b[39m\u001b[38;5;241m.\u001b[39m_reset()  \u001b[38;5;66;03m# type: ignore[call-arg]\u001b[39;00m\n\u001b[1;32m--> 630\u001b[0m data \u001b[38;5;241m=\u001b[39m \u001b[38;5;28;43mself\u001b[39;49m\u001b[38;5;241;43m.\u001b[39;49m\u001b[43m_next_data\u001b[49m\u001b[43m(\u001b[49m\u001b[43m)\u001b[49m\n\u001b[0;32m    631\u001b[0m \u001b[38;5;28mself\u001b[39m\u001b[38;5;241m.\u001b[39m_num_yielded \u001b[38;5;241m+\u001b[39m\u001b[38;5;241m=\u001b[39m \u001b[38;5;241m1\u001b[39m\n\u001b[0;32m    632\u001b[0m \u001b[38;5;28;01mif\u001b[39;00m \u001b[38;5;28mself\u001b[39m\u001b[38;5;241m.\u001b[39m_dataset_kind \u001b[38;5;241m==\u001b[39m _DatasetKind\u001b[38;5;241m.\u001b[39mIterable \u001b[38;5;129;01mand\u001b[39;00m \\\n\u001b[0;32m    633\u001b[0m         \u001b[38;5;28mself\u001b[39m\u001b[38;5;241m.\u001b[39m_IterableDataset_len_called \u001b[38;5;129;01mis\u001b[39;00m \u001b[38;5;129;01mnot\u001b[39;00m \u001b[38;5;28;01mNone\u001b[39;00m \u001b[38;5;129;01mand\u001b[39;00m \\\n\u001b[0;32m    634\u001b[0m         \u001b[38;5;28mself\u001b[39m\u001b[38;5;241m.\u001b[39m_num_yielded \u001b[38;5;241m>\u001b[39m \u001b[38;5;28mself\u001b[39m\u001b[38;5;241m.\u001b[39m_IterableDataset_len_called:\n",
      "File \u001b[1;32mc:\\Users\\ming\\miniconda3\\envs\\mvd-3d\\lib\\site-packages\\torch\\utils\\data\\dataloader.py:673\u001b[0m, in \u001b[0;36m_SingleProcessDataLoaderIter._next_data\u001b[1;34m(self)\u001b[0m\n\u001b[0;32m    671\u001b[0m \u001b[38;5;28;01mdef\u001b[39;00m \u001b[38;5;21m_next_data\u001b[39m(\u001b[38;5;28mself\u001b[39m):\n\u001b[0;32m    672\u001b[0m     index \u001b[38;5;241m=\u001b[39m \u001b[38;5;28mself\u001b[39m\u001b[38;5;241m.\u001b[39m_next_index()  \u001b[38;5;66;03m# may raise StopIteration\u001b[39;00m\n\u001b[1;32m--> 673\u001b[0m     data \u001b[38;5;241m=\u001b[39m \u001b[38;5;28;43mself\u001b[39;49m\u001b[38;5;241;43m.\u001b[39;49m\u001b[43m_dataset_fetcher\u001b[49m\u001b[38;5;241;43m.\u001b[39;49m\u001b[43mfetch\u001b[49m\u001b[43m(\u001b[49m\u001b[43mindex\u001b[49m\u001b[43m)\u001b[49m  \u001b[38;5;66;03m# may raise StopIteration\u001b[39;00m\n\u001b[0;32m    674\u001b[0m     \u001b[38;5;28;01mif\u001b[39;00m \u001b[38;5;28mself\u001b[39m\u001b[38;5;241m.\u001b[39m_pin_memory:\n\u001b[0;32m    675\u001b[0m         data \u001b[38;5;241m=\u001b[39m _utils\u001b[38;5;241m.\u001b[39mpin_memory\u001b[38;5;241m.\u001b[39mpin_memory(data, \u001b[38;5;28mself\u001b[39m\u001b[38;5;241m.\u001b[39m_pin_memory_device)\n",
      "File \u001b[1;32mc:\\Users\\ming\\miniconda3\\envs\\mvd-3d\\lib\\site-packages\\torch\\utils\\data\\_utils\\fetch.py:52\u001b[0m, in \u001b[0;36m_MapDatasetFetcher.fetch\u001b[1;34m(self, possibly_batched_index)\u001b[0m\n\u001b[0;32m     50\u001b[0m         data \u001b[38;5;241m=\u001b[39m \u001b[38;5;28mself\u001b[39m\u001b[38;5;241m.\u001b[39mdataset\u001b[38;5;241m.\u001b[39m__getitems__(possibly_batched_index)\n\u001b[0;32m     51\u001b[0m     \u001b[38;5;28;01melse\u001b[39;00m:\n\u001b[1;32m---> 52\u001b[0m         data \u001b[38;5;241m=\u001b[39m [\u001b[38;5;28mself\u001b[39m\u001b[38;5;241m.\u001b[39mdataset[idx] \u001b[38;5;28;01mfor\u001b[39;00m idx \u001b[38;5;129;01min\u001b[39;00m possibly_batched_index]\n\u001b[0;32m     53\u001b[0m \u001b[38;5;28;01melse\u001b[39;00m:\n\u001b[0;32m     54\u001b[0m     data \u001b[38;5;241m=\u001b[39m \u001b[38;5;28mself\u001b[39m\u001b[38;5;241m.\u001b[39mdataset[possibly_batched_index]\n",
      "File \u001b[1;32mc:\\Users\\ming\\miniconda3\\envs\\mvd-3d\\lib\\site-packages\\torch\\utils\\data\\_utils\\fetch.py:52\u001b[0m, in \u001b[0;36m<listcomp>\u001b[1;34m(.0)\u001b[0m\n\u001b[0;32m     50\u001b[0m         data \u001b[38;5;241m=\u001b[39m \u001b[38;5;28mself\u001b[39m\u001b[38;5;241m.\u001b[39mdataset\u001b[38;5;241m.\u001b[39m__getitems__(possibly_batched_index)\n\u001b[0;32m     51\u001b[0m     \u001b[38;5;28;01melse\u001b[39;00m:\n\u001b[1;32m---> 52\u001b[0m         data \u001b[38;5;241m=\u001b[39m [\u001b[38;5;28;43mself\u001b[39;49m\u001b[38;5;241;43m.\u001b[39;49m\u001b[43mdataset\u001b[49m\u001b[43m[\u001b[49m\u001b[43midx\u001b[49m\u001b[43m]\u001b[49m \u001b[38;5;28;01mfor\u001b[39;00m idx \u001b[38;5;129;01min\u001b[39;00m possibly_batched_index]\n\u001b[0;32m     53\u001b[0m \u001b[38;5;28;01melse\u001b[39;00m:\n\u001b[0;32m     54\u001b[0m     data \u001b[38;5;241m=\u001b[39m \u001b[38;5;28mself\u001b[39m\u001b[38;5;241m.\u001b[39mdataset[possibly_batched_index]\n",
      "File \u001b[1;32mc:\\Users\\ming\\miniconda3\\envs\\mvd-3d\\lib\\site-packages\\torchvision\\datasets\\mnist.py:146\u001b[0m, in \u001b[0;36mMNIST.__getitem__\u001b[1;34m(self, index)\u001b[0m\n\u001b[0;32m    143\u001b[0m img \u001b[38;5;241m=\u001b[39m Image\u001b[38;5;241m.\u001b[39mfromarray(img\u001b[38;5;241m.\u001b[39mnumpy(), mode\u001b[38;5;241m=\u001b[39m\u001b[38;5;124m\"\u001b[39m\u001b[38;5;124mL\u001b[39m\u001b[38;5;124m\"\u001b[39m)\n\u001b[0;32m    145\u001b[0m \u001b[38;5;28;01mif\u001b[39;00m \u001b[38;5;28mself\u001b[39m\u001b[38;5;241m.\u001b[39mtransform \u001b[38;5;129;01mis\u001b[39;00m \u001b[38;5;129;01mnot\u001b[39;00m \u001b[38;5;28;01mNone\u001b[39;00m:\n\u001b[1;32m--> 146\u001b[0m     img \u001b[38;5;241m=\u001b[39m \u001b[38;5;28;43mself\u001b[39;49m\u001b[38;5;241;43m.\u001b[39;49m\u001b[43mtransform\u001b[49m\u001b[43m(\u001b[49m\u001b[43mimg\u001b[49m\u001b[43m)\u001b[49m\n\u001b[0;32m    148\u001b[0m \u001b[38;5;28;01mif\u001b[39;00m \u001b[38;5;28mself\u001b[39m\u001b[38;5;241m.\u001b[39mtarget_transform \u001b[38;5;129;01mis\u001b[39;00m \u001b[38;5;129;01mnot\u001b[39;00m \u001b[38;5;28;01mNone\u001b[39;00m:\n\u001b[0;32m    149\u001b[0m     target \u001b[38;5;241m=\u001b[39m \u001b[38;5;28mself\u001b[39m\u001b[38;5;241m.\u001b[39mtarget_transform(target)\n",
      "File \u001b[1;32mc:\\Users\\ming\\miniconda3\\envs\\mvd-3d\\lib\\site-packages\\torchvision\\transforms\\transforms.py:95\u001b[0m, in \u001b[0;36mCompose.__call__\u001b[1;34m(self, img)\u001b[0m\n\u001b[0;32m     93\u001b[0m \u001b[38;5;28;01mdef\u001b[39;00m \u001b[38;5;21m__call__\u001b[39m(\u001b[38;5;28mself\u001b[39m, img):\n\u001b[0;32m     94\u001b[0m     \u001b[38;5;28;01mfor\u001b[39;00m t \u001b[38;5;129;01min\u001b[39;00m \u001b[38;5;28mself\u001b[39m\u001b[38;5;241m.\u001b[39mtransforms:\n\u001b[1;32m---> 95\u001b[0m         img \u001b[38;5;241m=\u001b[39m \u001b[43mt\u001b[49m\u001b[43m(\u001b[49m\u001b[43mimg\u001b[49m\u001b[43m)\u001b[49m\n\u001b[0;32m     96\u001b[0m     \u001b[38;5;28;01mreturn\u001b[39;00m img\n",
      "File \u001b[1;32mc:\\Users\\ming\\miniconda3\\envs\\mvd-3d\\lib\\site-packages\\torchvision\\transforms\\transforms.py:137\u001b[0m, in \u001b[0;36mToTensor.__call__\u001b[1;34m(self, pic)\u001b[0m\n\u001b[0;32m    129\u001b[0m \u001b[38;5;28;01mdef\u001b[39;00m \u001b[38;5;21m__call__\u001b[39m(\u001b[38;5;28mself\u001b[39m, pic):\n\u001b[0;32m    130\u001b[0m \u001b[38;5;250m    \u001b[39m\u001b[38;5;124;03m\"\"\"\u001b[39;00m\n\u001b[0;32m    131\u001b[0m \u001b[38;5;124;03m    Args:\u001b[39;00m\n\u001b[0;32m    132\u001b[0m \u001b[38;5;124;03m        pic (PIL Image or numpy.ndarray): Image to be converted to tensor.\u001b[39;00m\n\u001b[1;32m   (...)\u001b[0m\n\u001b[0;32m    135\u001b[0m \u001b[38;5;124;03m        Tensor: Converted image.\u001b[39;00m\n\u001b[0;32m    136\u001b[0m \u001b[38;5;124;03m    \"\"\"\u001b[39;00m\n\u001b[1;32m--> 137\u001b[0m     \u001b[38;5;28;01mreturn\u001b[39;00m \u001b[43mF\u001b[49m\u001b[38;5;241;43m.\u001b[39;49m\u001b[43mto_tensor\u001b[49m\u001b[43m(\u001b[49m\u001b[43mpic\u001b[49m\u001b[43m)\u001b[49m\n",
      "File \u001b[1;32mc:\\Users\\ming\\miniconda3\\envs\\mvd-3d\\lib\\site-packages\\torchvision\\transforms\\functional.py:172\u001b[0m, in \u001b[0;36mto_tensor\u001b[1;34m(pic)\u001b[0m\n\u001b[0;32m    170\u001b[0m \u001b[38;5;28;01mif\u001b[39;00m pic\u001b[38;5;241m.\u001b[39mmode \u001b[38;5;241m==\u001b[39m \u001b[38;5;124m\"\u001b[39m\u001b[38;5;124m1\u001b[39m\u001b[38;5;124m\"\u001b[39m:\n\u001b[0;32m    171\u001b[0m     img \u001b[38;5;241m=\u001b[39m \u001b[38;5;241m255\u001b[39m \u001b[38;5;241m*\u001b[39m img\n\u001b[1;32m--> 172\u001b[0m img \u001b[38;5;241m=\u001b[39m \u001b[43mimg\u001b[49m\u001b[38;5;241;43m.\u001b[39;49m\u001b[43mview\u001b[49m\u001b[43m(\u001b[49m\u001b[43mpic\u001b[49m\u001b[38;5;241;43m.\u001b[39;49m\u001b[43msize\u001b[49m\u001b[43m[\u001b[49m\u001b[38;5;241;43m1\u001b[39;49m\u001b[43m]\u001b[49m\u001b[43m,\u001b[49m\u001b[43m \u001b[49m\u001b[43mpic\u001b[49m\u001b[38;5;241;43m.\u001b[39;49m\u001b[43msize\u001b[49m\u001b[43m[\u001b[49m\u001b[38;5;241;43m0\u001b[39;49m\u001b[43m]\u001b[49m\u001b[43m,\u001b[49m\u001b[43m \u001b[49m\u001b[43mF_pil\u001b[49m\u001b[38;5;241;43m.\u001b[39;49m\u001b[43mget_image_num_channels\u001b[49m\u001b[43m(\u001b[49m\u001b[43mpic\u001b[49m\u001b[43m)\u001b[49m\u001b[43m)\u001b[49m\n\u001b[0;32m    173\u001b[0m \u001b[38;5;66;03m# put it from HWC to CHW format\u001b[39;00m\n\u001b[0;32m    174\u001b[0m img \u001b[38;5;241m=\u001b[39m img\u001b[38;5;241m.\u001b[39mpermute((\u001b[38;5;241m2\u001b[39m, \u001b[38;5;241m0\u001b[39m, \u001b[38;5;241m1\u001b[39m))\u001b[38;5;241m.\u001b[39mcontiguous()\n",
      "\u001b[1;31mKeyboardInterrupt\u001b[0m: "
     ]
    }
   ],
   "source": [
    "# model_MLP = MLP()\n",
    "\n",
    "# nn.init.normal_(model_MLP.net[0].weight, mean=0.0, std=0.01)\n",
    "# nn.init.zeros_(model_MLP.net[0].bias)\n",
    "# nn.init.normal_(model_MLP.net[2].weight, mean=0.0, std=0.05)\n",
    "# nn.init.zeros_(model_MLP.net[2].bias)\n",
    "\n",
    "trainer(training_data, model_MLP, nn.CrossEntropyLoss(), batch_size=60000, epoch=400, rate=1e-1)"
   ]
  },
  {
   "cell_type": "code",
   "execution_count": 17,
   "metadata": {},
   "outputs": [
    {
     "name": "stdout",
     "output_type": "stream",
     "text": [
      "8893 out of 10000 correct\n"
     ]
    },
    {
     "data": {
      "text/plain": [
       "0.8893"
      ]
     },
     "execution_count": 17,
     "metadata": {},
     "output_type": "execute_result"
    }
   ],
   "source": [
    "success_rate_vector(model_MLP, test_data)"
   ]
  },
  {
   "cell_type": "code",
   "execution_count": 10,
   "metadata": {},
   "outputs": [
    {
     "name": "stderr",
     "output_type": "stream",
     "text": [
      "Epoch 1/5: 100%|██████████████████████████████████████| 118/118 [00:04<00:00, 25.82it/s, loss=0.425]\n",
      "Epoch 2/5: 100%|██████████████████████████████████████| 118/118 [00:04<00:00, 27.05it/s, loss=0.412]\n",
      "Epoch 3/5: 100%|██████████████████████████████████████| 118/118 [00:04<00:00, 26.08it/s, loss=0.367]\n",
      "Epoch 4/5: 100%|██████████████████████████████████████| 118/118 [00:05<00:00, 21.97it/s, loss=0.361]\n",
      "Epoch 5/5: 100%|██████████████████████████████████████| 118/118 [00:06<00:00, 18.50it/s, loss=0.332]\n"
     ]
    }
   ],
   "source": [
    "trainer(training_data, model_MLP, nn.CrossEntropyLoss(), batch_size=512, epoch=5)"
   ]
  },
  {
   "cell_type": "code",
   "execution_count": 11,
   "metadata": {},
   "outputs": [
    {
     "name": "stdout",
     "output_type": "stream",
     "text": [
      "8563 out of 10000 correct\n"
     ]
    },
    {
     "data": {
      "text/plain": [
       "0.8563"
      ]
     },
     "execution_count": 11,
     "metadata": {},
     "output_type": "execute_result"
    }
   ],
   "source": [
    "success_rate_vector(model_MLP, test_data)"
   ]
  }
 ],
 "metadata": {
  "kernelspec": {
   "display_name": "mvd-3d",
   "language": "python",
   "name": "python3"
  },
  "language_info": {
   "codemirror_mode": {
    "name": "ipython",
    "version": 3
   },
   "file_extension": ".py",
   "mimetype": "text/x-python",
   "name": "python",
   "nbconvert_exporter": "python",
   "pygments_lexer": "ipython3",
   "version": "3.10.11"
  }
 },
 "nbformat": 4,
 "nbformat_minor": 2
}
