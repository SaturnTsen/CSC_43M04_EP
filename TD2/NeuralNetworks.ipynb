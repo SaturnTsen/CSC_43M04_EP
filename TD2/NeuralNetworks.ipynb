{
 "cells": [
  {
   "cell_type": "markdown",
   "metadata": {},
   "source": [
    "# Neural Networks\n",
    "\n",
    "## My first neural network: StupidNet™"
   ]
  },
  {
   "cell_type": "code",
   "execution_count": 5,
   "metadata": {},
   "outputs": [],
   "source": [
    "import torch\n",
    "from torch import nn\n",
    "import os\n",
    "\n",
    "def set_manual_seed(seed=114514):\n",
    "    torch.manual_seed(seed)\n",
    "    if torch.cuda.is_available():\n",
    "        torch.cuda.manual_seed_all(seed)"
   ]
  },
  {
   "cell_type": "markdown",
   "metadata": {},
   "source": [
    "### Loading and transforming the dataset"
   ]
  },
  {
   "cell_type": "markdown",
   "metadata": {},
   "source": [
    "#### Question 1 & 2"
   ]
  },
  {
   "cell_type": "code",
   "execution_count": 2,
   "metadata": {},
   "outputs": [
    {
     "name": "stdout",
     "output_type": "stream",
     "text": [
      "<class 'torch.Tensor'>\n",
      "torch.Size([784]) 0\n"
     ]
    },
    {
     "data": {
      "text/plain": [
       "<matplotlib.image.AxesImage at 0x15e6e3fcb50>"
      ]
     },
     "execution_count": 2,
     "metadata": {},
     "output_type": "execute_result"
    },
    {
     "data": {
      "image/png": "[encoded data removed]",
      "text/plain": [
       "<Figure size 640x480 with 1 Axes>"
      ]
     },
     "metadata": {},
     "output_type": "display_data"
    }
   ],
   "source": [
    "from torchvision import datasets\n",
    "from torchvision import transforms\n",
    "import matplotlib.pyplot as plt\n",
    "\n",
    "transform = transforms.Compose([\n",
    "    transforms.ToTensor(),\n",
    "    transforms.Lambda(lambda x: torch.flatten(x))  # 将张量展平为一维\n",
    "])\n",
    "\n",
    "training_data = datasets.FashionMNIST(\"../\", train=True, transform=transform)\n",
    "test_data = datasets.FashionMNIST(\"../\", download=True, train=False, transform=transform)\n",
    "\n",
    "print(type(training_data[1][0]))\n",
    "print(training_data[1][0].shape, training_data[1][1])\n",
    "plt.imshow(training_data[1][0].reshape(28,28))"
   ]
  },
  {
   "cell_type": "markdown",
   "metadata": {},
   "source": [
    "#### Question 3, 4 & 5"
   ]
  },
  {
   "cell_type": "code",
   "execution_count": null,
   "metadata": {},
   "outputs": [],
   "source": [
    "from torch.utils.data import DataLoader\n",
    "from torch.optim import Adam\n",
    "from tqdm import tqdm\n",
    "\n",
    "def trainer(dataset, model, loss_fn, epoch=10, batch_size=64, rate=1e-4):\n",
    "    device = torch.device(\"cuda\" if torch.cuda.is_available() else \"cpu\")\n",
    "    model.to(device)\n",
    "    \n",
    "    # Useless for a single-layer network but we will keep it in order not to lose the generality\n",
    "    model.train()\n",
    "    \n",
    "    dataloader = DataLoader(dataset, batch_size, shuffle=True)\n",
    "    \n",
    "    optimizer = Adam(model.parameters(), lr=rate)\n",
    "    \n",
    "    for epoch_idx in range(epoch):\n",
    "        \n",
    "        pbar = tqdm(dataloader, desc=f\"Epoch {epoch_idx+1}/{epoch}\", ncols=100)\n",
    "        \n",
    "        for images, labels in pbar:\n",
    "            images, labels = images.to(device), labels.to(device)\n",
    "            outputs = model(images)\n",
    "            loss = loss_fn(outputs, labels)\n",
    "            optimizer.zero_grad()\n",
    "            loss.backward()\n",
    "            optimizer.step()\n",
    "            pbar.set_postfix(loss=loss.item())"
   ]
  },
  {
   "cell_type": "code",
   "execution_count": null,
   "metadata": {},
   "outputs": [],
   "source": [
    "model_TD1 = nn.Linear(in_features=training_data[0][0].shape[0], out_features=1)"
   ]
  },
  {
   "cell_type": "markdown",
   "metadata": {},
   "source": [
    "#### Question 6"
   ]
  },
  {
   "cell_type": "code",
   "execution_count": null,
   "metadata": {},
   "outputs": [],
   "source": [
    "def MSE():\n",
    "    # patch outputs shape and target dtype\n",
    "    loss_fn = nn.MSELoss()\n",
    "    return lambda outputs, labels: loss_fn(outputs.squeeze(1), labels.float())\n",
    "\n",
    "set_manual_seed()    \n",
    "nn.init.normal_(model_TD1.weight, mean=0.0, std=0.2)\n",
    "nn.init.zeros_(model_TD1.bias)\n",
    "\n",
    "trainer(training_data, model_TD1, MSE(), batch_size=50, epoch=30)\n",
    "\n",
    "os.makedirs('work_dir', exist_ok=True)\n",
    "torch.save(model_TD1.state_dict(), './work_dir/model_TD1.pt')"
   ]
  },
  {
   "cell_type": "code",
   "execution_count": null,
   "metadata": {},
   "outputs": [],
   "source": [
    "def success_rate(model_TD1, test_data):\n",
    "    correct = 0\n",
    "    total = 0\n",
    "    test_loader = DataLoader(test_data, batch_size=64, shuffle=False)\n",
    "    model_TD1.eval()\n",
    "    with torch.no_grad():\n",
    "        for images, labels in test_loader:\n",
    "            images, labels = images.to(model_TD1.weight.device), labels.to(model_TD1.weight.device).to(torch.int32)\n",
    "            outputs = model_TD1(images)\n",
    "            pred = torch.round(outputs, decimals=0).squeeze(1).to(torch.int32)\n",
    "            total += labels.shape[0]\n",
    "            correct += (pred == labels).sum().item()\n",
    "    print(f\"{correct} out of {total} correct\")\n",
    "    return correct/total\n",
    "\n",
    "print(f\"Success Rate of model_TD1: {success_rate(model_TD1, test_data)}\")"
   ]
  },
  {
   "cell_type": "markdown",
   "metadata": {},
   "source": [
    "### Improving StupidNet™: our second neural network"
   ]
  },
  {
   "cell_type": "markdown",
   "metadata": {},
   "source": [
    "#### Question 7"
   ]
  },
  {
   "cell_type": "code",
   "execution_count": null,
   "metadata": {},
   "outputs": [],
   "source": [
    "model_10 = nn.Sequential(\n",
    "    nn.Linear(in_features=training_data[0][0].shape[0], out_features=10),\n",
    "    nn.LogSoftmax(dim=1)\n",
    ")\n",
    "\n",
    "# dummy_input = torch.randn(size=(13,784))\n",
    "# probs_ = torch.exp(model_10(dummy_input))\n",
    "# assert torch.allclose(\n",
    "#         torch.sum(probs_, axis=1),\n",
    "#         torch.ones(13))"
   ]
  },
  {
   "cell_type": "code",
   "execution_count": 8,
   "metadata": {},
   "outputs": [
    {
     "name": "stderr",
     "output_type": "stream",
     "text": [
      "Epoch 1/30: 100%|███████████████████████████████████| 1200/1200 [00:10<00:00, 109.19it/s, loss=1.08]\n",
      "Epoch 2/30: 100%|███████████████████████████████████| 1200/1200 [00:15<00:00, 76.99it/s, loss=0.815]\n",
      "Epoch 3/30: 100%|████████████████████████████████████| 1200/1200 [00:14<00:00, 82.36it/s, loss=0.63]\n",
      "Epoch 4/30: 100%|███████████████████████████████████| 1200/1200 [00:14<00:00, 80.37it/s, loss=0.527]\n",
      "Epoch 5/30: 100%|████████████████████████████████████| 1200/1200 [00:12<00:00, 95.77it/s, loss=0.81]\n",
      "Epoch 6/30: 100%|██████████████████████████████████| 1200/1200 [00:10<00:00, 115.48it/s, loss=0.342]\n",
      "Epoch 7/30: 100%|███████████████████████████████████| 1200/1200 [00:13<00:00, 89.70it/s, loss=0.747]\n",
      "Epoch 8/30: 100%|███████████████████████████████████| 1200/1200 [00:13<00:00, 91.55it/s, loss=0.523]\n",
      "Epoch 9/30: 100%|███████████████████████████████████| 1200/1200 [00:13<00:00, 86.10it/s, loss=0.582]\n",
      "Epoch 10/30: 100%|██████████████████████████████████| 1200/1200 [00:12<00:00, 97.26it/s, loss=0.303]\n",
      "Epoch 11/30: 100%|██████████████████████████████████| 1200/1200 [00:12<00:00, 94.64it/s, loss=0.458]\n",
      "Epoch 12/30: 100%|██████████████████████████████████| 1200/1200 [00:14<00:00, 83.24it/s, loss=0.523]\n",
      "Epoch 13/30: 100%|████████████████████████████████████| 1200/1200 [00:12<00:00, 99.73it/s, loss=0.7]\n",
      "Epoch 14/30: 100%|██████████████████████████████████| 1200/1200 [00:12<00:00, 98.44it/s, loss=0.388]\n",
      "Epoch 15/30: 100%|██████████████████████████████████| 1200/1200 [00:13<00:00, 86.68it/s, loss=0.508]\n",
      "Epoch 16/30: 100%|█████████████████████████████████| 1200/1200 [00:10<00:00, 116.03it/s, loss=0.692]\n",
      "Epoch 17/30: 100%|██████████████████████████████████| 1200/1200 [00:09<00:00, 124.87it/s, loss=0.46]\n",
      "Epoch 18/30: 100%|██████████████████████████████████| 1200/1200 [00:17<00:00, 68.43it/s, loss=0.452]\n",
      "Epoch 19/30: 100%|██████████████████████████████████| 1200/1200 [00:16<00:00, 74.35it/s, loss=0.373]\n",
      "Epoch 20/30: 100%|█████████████████████████████████| 1200/1200 [00:10<00:00, 118.36it/s, loss=0.462]\n",
      "Epoch 21/30: 100%|██████████████████████████████████| 1200/1200 [00:12<00:00, 93.89it/s, loss=0.497]\n",
      "Epoch 22/30: 100%|█████████████████████████████████| 1200/1200 [00:11<00:00, 104.94it/s, loss=0.382]\n",
      "Epoch 23/30: 100%|█████████████████████████████████| 1200/1200 [00:09<00:00, 123.60it/s, loss=0.514]\n",
      "Epoch 24/30: 100%|█████████████████████████████████| 1200/1200 [00:10<00:00, 117.22it/s, loss=0.287]\n",
      "Epoch 25/30: 100%|█████████████████████████████████| 1200/1200 [00:10<00:00, 114.25it/s, loss=0.338]\n",
      "Epoch 26/30: 100%|███████████████████████████████████| 1200/1200 [00:16<00:00, 72.02it/s, loss=0.48]\n",
      "Epoch 27/30: 100%|██████████████████████████████████| 1200/1200 [00:11<00:00, 100.87it/s, loss=0.52]\n",
      "Epoch 28/30: 100%|█████████████████████████████████| 1200/1200 [00:10<00:00, 115.25it/s, loss=0.366]\n",
      "Epoch 29/30: 100%|██████████████████████████████████| 1200/1200 [00:10<00:00, 111.89it/s, loss=0.38]\n",
      "Epoch 30/30: 100%|█████████████████████████████████| 1200/1200 [00:11<00:00, 108.73it/s, loss=0.409]\n"
     ]
    }
   ],
   "source": [
    "set_manual_seed()\n",
    "nn.init.normal_(model_10[0].weight, mean=0.0, std=0.2)\n",
    "nn.init.zeros_(model_10[0].bias)\n",
    "\n",
    "trainer(training_data, model_10, nn.NLLLoss(), batch_size=50, epoch=30)\n",
    "\n",
    "os.makedirs('work_dir', exist_ok=True)\n",
    "torch.save(model_10.state_dict(), './work_dir/model_10.pt')"
   ]
  },
  {
   "cell_type": "code",
   "execution_count": 17,
   "metadata": {},
   "outputs": [
    {
     "name": "stdout",
     "output_type": "stream",
     "text": [
      "8333 out of 10000 correct\n",
      "Success Rate of model_TD1: 0.8333\n"
     ]
    }
   ],
   "source": [
    "def success_rate_vector(model_10, test_data):\n",
    "    correct = 0\n",
    "    total = 0\n",
    "    test_loader = DataLoader(test_data, batch_size=64, shuffle=False)\n",
    "    model_10.eval()\n",
    "    with torch.no_grad():\n",
    "        for images, labels in test_loader:\n",
    "            images, labels = images.to(model_10[0].weight.device), labels.to(model_10[0].weight.device).to(torch.int32)\n",
    "            outputs = model_10(images)\n",
    "            pred = torch.argmax(outputs, dim=1)\n",
    "            total += labels.shape[0]\n",
    "            correct += (pred == labels).sum().item()\n",
    "    print(f\"{correct} out of {total} correct\")\n",
    "    return correct/total\n",
    "\n",
    "print(f\"Success Rate of model_TD1: {success_rate_vector(model_10, test_data)}\")"
   ]
  },
  {
   "cell_type": "markdown",
   "metadata": {},
   "source": [
    "### Activation Functions"
   ]
  },
  {
   "cell_type": "code",
   "execution_count": null,
   "metadata": {},
   "outputs": [],
   "source": [
    "model_ReLU = nn.Sequential(\n",
    "    nn.Linear(in_features=training_data[0][0].shape[0], out_features=10),\n",
    "    nn.ReLU(),\n",
    "    nn.LogSoftmax(dim=1) # Since we use nn.NLLLoss, using logsoftmax to normalize is recommended\n",
    ")\n",
    "\n",
    "model_sigmoid = nn.Sequential(\n",
    "    nn.Linear(in_features=training_data[0][0].shape[0], out_features=10),\n",
    "    nn.Sigmoid(),\n",
    "    nn.LogSoftmax(dim=1)\n",
    ")\n",
    "\n",
    "\n",
    "model_tanh = nn.Sequential(\n",
    "    nn.Linear(in_features=training_data[0][0].shape[0], out_features=10),\n",
    "    nn.Tanh(),\n",
    "    nn.LogSoftmax(dim=1)\n",
    ")"
   ]
  },
  {
   "cell_type": "code",
   "execution_count": 24,
   "metadata": {},
   "outputs": [],
   "source": [
    "def train_and_test(model, model_name, test_data, save=True):\n",
    "    set_manual_seed()\n",
    "    nn.init.normal_(model_10[0].weight, mean=0.0, std=0.2)\n",
    "    nn.init.zeros_(model_10[0].bias)\n",
    "\n",
    "    trainer(training_data, model, nn.NLLLoss(), batch_size=64, epoch=30)\n",
    "    \n",
    "    print(f\"Success Rate of model_TD1: {success_rate_vector(model, test_data)}\")\n",
    "    \n",
    "    if save:\n",
    "        save_dir = f\"./work_dir/{model_name}.pt\"\n",
    "        print(f\"saving to {dir}\")\n",
    "        os.makedirs('work_dir', exist_ok=True)\n",
    "        torch.save(model_10.state_dict(), save_dir)"
   ]
  },
  {
   "cell_type": "code",
   "execution_count": null,
   "metadata": {},
   "outputs": [
    {
     "name": "stderr",
     "output_type": "stream",
     "text": [
      "Epoch 1/30: 100%|█████████████████████████████████████| 938/938 [00:08<00:00, 112.99it/s, loss=1.43]\n",
      "Epoch 2/30: 100%|█████████████████████████████████████| 938/938 [00:09<00:00, 101.53it/s, loss=1.32]\n",
      "Epoch 3/30: 100%|██████████████████████████████████████| 938/938 [00:09<00:00, 95.96it/s, loss=1.46]\n",
      "Epoch 4/30: 100%|█████████████████████████████████████| 938/938 [00:07<00:00, 121.03it/s, loss=1.01]\n",
      "Epoch 5/30: 100%|█████████████████████████████████████| 938/938 [00:08<00:00, 108.32it/s, loss=1.72]\n",
      "Epoch 6/30: 100%|█████████████████████████████████████| 938/938 [00:09<00:00, 101.27it/s, loss=1.37]\n",
      "Epoch 7/30: 100%|██████████████████████████████████████| 938/938 [00:10<00:00, 92.14it/s, loss=1.52]\n",
      "Epoch 8/30:  56%|████████████████████▋                | 526/938 [00:03<00:03, 132.41it/s, loss=1.19]"
     ]
    }
   ],
   "source": [
    "train_and_test(model_ReLU, \"model_RELU\", test_data)\n",
    "train_and_test(model_sigmoid, \"model_sigmoid\", test_data)\n",
    "train_and_test(model_tanh, \"model_tanh\", test_data)"
   ]
  },
  {
   "cell_type": "markdown",
   "metadata": {},
   "source": [
    "## Training using GPU\n",
    "\n",
    "We already implemented the GPU version to train our neural network."
   ]
  },
  {
   "cell_type": "markdown",
   "metadata": {},
   "source": [
    "## Using Classes"
   ]
  },
  {
   "cell_type": "code",
   "execution_count": null,
   "metadata": {},
   "outputs": [],
   "source": [
    "import torch\n",
    "from torch import nn\n",
    "\n",
    "class SingleLayerNN(nn.Module): # a class inheriting from nn.Module\n",
    "\tdef __init__(self): \n",
    "\t\tsuper().__init__()\n",
    "\t\tself.net  = nn.Sequential(\n",
    "    \t\tnn.Linear(in_features=training_data[0][0].shape[0], out_features=10),\n",
    "    \t\tnn.ReLU()\n",
    "\t\t)\n",
    "\tdef forward(self, x): \n",
    "\t\treturn self.net(x)"
   ]
  }
 ],
 "metadata": {
  "kernelspec": {
   "display_name": "mvd-3d",
   "language": "python",
   "name": "python3"
  },
  "language_info": {
   "codemirror_mode": {
    "name": "ipython",
    "version": 3
   },
   "file_extension": ".py",
   "mimetype": "text/x-python",
   "name": "python",
   "nbconvert_exporter": "python",
   "pygments_lexer": "ipython3",
   "version": "3.10.11"
  }
 },
 "nbformat": 4,
 "nbformat_minor": 2
}
